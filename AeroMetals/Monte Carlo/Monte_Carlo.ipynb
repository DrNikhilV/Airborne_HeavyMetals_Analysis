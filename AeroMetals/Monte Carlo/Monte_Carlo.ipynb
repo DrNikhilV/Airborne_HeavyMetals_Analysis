{
 "cells": [
  {
   "cell_type": "code",
   "execution_count": 2,
   "metadata": {},
   "outputs": [
    {
     "name": "stdout",
     "output_type": "stream",
     "text": [
      "Sheet Name: Arsenic, Number of Columns: 34\n",
      "Sheet Name: Cadmium, Number of Columns: 34\n",
      "Sheet Name: Chromium, Number of Columns: 34\n",
      "Sheet Name: Copper, Number of Columns: 34\n",
      "Sheet Name: Lead, Number of Columns: 34\n",
      "Sheet Name: Mercury, Number of Columns: 34\n",
      "Sheet Name: Nickel, Number of Columns: 34\n",
      "Sheet Name: Selenium, Number of Columns: 34\n",
      "Sheet Name: Vanadium, Number of Columns: 34\n",
      "Sheet Name: Zinc, Number of Columns: 34\n"
     ]
    }
   ],
   "source": [
    "import pandas as pd\n",
    "\n",
    "file_path = 'AirborneEmissions_Processed.xlsx'\n",
    "\n",
    "excel_file = pd.ExcelFile(file_path)\n",
    "\n",
    "for sheet_name in excel_file.sheet_names:\n",
    "    sheet_df = pd.read_excel(file_path, sheet_name=sheet_name)\n",
    "    num_columns = sheet_df.shape[1]\n",
    "    print(f\"Sheet Name: {sheet_name}, Number of Columns: {num_columns}\")"
   ]
  },
  {
   "cell_type": "code",
   "execution_count": 3,
   "metadata": {},
   "outputs": [
    {
     "name": "stdout",
     "output_type": "stream",
     "text": [
      "Sheet Name: Arsenic has no empty or null rows.\n",
      "Sheet Name: Cadmium has no empty or null rows.\n",
      "Sheet Name: Chromium has no empty or null rows.\n",
      "Sheet Name: Copper has no empty or null rows.\n",
      "Sheet Name: Lead has no empty or null rows.\n",
      "Sheet Name: Mercury has no empty or null rows.\n",
      "Sheet Name: Nickel has no empty or null rows.\n",
      "Sheet Name: Selenium has no empty or null rows.\n",
      "Sheet Name: Vanadium has no empty or null rows.\n",
      "Sheet Name: Zinc has no empty or null rows.\n"
     ]
    }
   ],
   "source": [
    "for sheet_name in excel_file.sheet_names:\n",
    "    sheet_df = pd.read_excel(file_path, sheet_name=sheet_name)\n",
    "    num_columns = sheet_df.shape[1]  \n",
    "    empty_rows = sheet_df.isnull().all(axis=1)\n",
    "    \n",
    "    if empty_rows.any():\n",
    "        print(f\"Sheet Name: {sheet_name} has empty or null rows at indices: {sheet_df[empty_rows].index.tolist()}\")\n",
    "    else:\n",
    "        print(f\"Sheet Name: {sheet_name} has no empty or null rows.\")"
   ]
  },
  {
   "cell_type": "code",
   "execution_count": 1,
   "metadata": {},
   "outputs": [
    {
     "name": "stdout",
     "output_type": "stream",
     "text": [
      "Processing sheet: Arsenic, Number of Columns: 34\n",
      "Graph saved for sheet 'Arsenic' at simulation_images\\Arsenic_simulation.png\n",
      "Processing sheet: Cadmium, Number of Columns: 34\n"
     ]
    },
    {
     "name": "stderr",
     "output_type": "stream",
     "text": [
      "c:\\Users\\nikhi\\AppData\\Local\\Programs\\Python\\Python312\\Lib\\site-packages\\numpy\\_core\\fromnumeric.py:3904: RuntimeWarning: Mean of empty slice.\n",
      "  return _methods._mean(a, axis=axis, dtype=dtype,\n",
      "c:\\Users\\nikhi\\AppData\\Local\\Programs\\Python\\Python312\\Lib\\site-packages\\numpy\\_core\\_methods.py:147: RuntimeWarning: invalid value encountered in scalar divide\n",
      "  ret = ret.dtype.type(ret / rcount)\n",
      "c:\\Users\\nikhi\\AppData\\Local\\Programs\\Python\\Python312\\Lib\\site-packages\\numpy\\_core\\_methods.py:227: RuntimeWarning: Degrees of freedom <= 0 for slice\n",
      "  ret = _var(a, axis=axis, dtype=dtype, out=out, ddof=ddof,\n",
      "c:\\Users\\nikhi\\AppData\\Local\\Programs\\Python\\Python312\\Lib\\site-packages\\numpy\\_core\\_methods.py:184: RuntimeWarning: invalid value encountered in divide\n",
      "  arrmean = um.true_divide(arrmean, div, out=arrmean,\n",
      "c:\\Users\\nikhi\\AppData\\Local\\Programs\\Python\\Python312\\Lib\\site-packages\\numpy\\_core\\_methods.py:219: RuntimeWarning: invalid value encountered in scalar divide\n",
      "  ret = ret.dtype.type(ret / rcount)\n"
     ]
    },
    {
     "name": "stdout",
     "output_type": "stream",
     "text": [
      "Graph saved for sheet 'Cadmium' at simulation_images\\Cadmium_simulation.png\n",
      "Processing sheet: Chromium, Number of Columns: 34\n",
      "Graph saved for sheet 'Chromium' at simulation_images\\Chromium_simulation.png\n",
      "Processing sheet: Copper, Number of Columns: 34\n",
      "Graph saved for sheet 'Copper' at simulation_images\\Copper_simulation.png\n",
      "Processing sheet: Lead, Number of Columns: 34\n",
      "Graph saved for sheet 'Lead' at simulation_images\\Lead_simulation.png\n",
      "Processing sheet: Mercury, Number of Columns: 34\n"
     ]
    },
    {
     "name": "stderr",
     "output_type": "stream",
     "text": [
      "c:\\Users\\nikhi\\AppData\\Local\\Programs\\Python\\Python312\\Lib\\site-packages\\numpy\\_core\\_methods.py:194: RuntimeWarning: invalid value encountered in subtract\n",
      "  x = asanyarray(arr - arrmean)\n"
     ]
    },
    {
     "name": "stdout",
     "output_type": "stream",
     "text": [
      "Graph saved for sheet 'Mercury' at simulation_images\\Mercury_simulation.png\n",
      "Processing sheet: Nickel, Number of Columns: 34\n",
      "Graph saved for sheet 'Nickel' at simulation_images\\Nickel_simulation.png\n",
      "Processing sheet: Selenium, Number of Columns: 34\n",
      "Graph saved for sheet 'Selenium' at simulation_images\\Selenium_simulation.png\n",
      "Processing sheet: Vanadium, Number of Columns: 34\n",
      "Graph saved for sheet 'Vanadium' at simulation_images\\Vanadium_simulation.png\n",
      "Processing sheet: Zinc, Number of Columns: 34\n",
      "Graph saved for sheet 'Zinc' at simulation_images\\Zinc_simulation.png\n",
      "Monte Carlo simulation results saved to predictions_mc.xlsx\n"
     ]
    }
   ],
   "source": [
    "import numpy as np\n",
    "import pandas as pd\n",
    "import matplotlib.pyplot as plt\n",
    "import os\n",
    "\n",
    "file_path = 'AirborneEmissions_Processed.xlsx' \n",
    "excel_file = pd.ExcelFile(file_path)\n",
    "\n",
    "num_simulations = 1000\n",
    "future_years = np.arange(2023, 2031)  \n",
    "output_file_path = 'predictions_mc.xlsx'  \n",
    "images_output_dir = 'simulation_images' \n",
    "\n",
    "os.makedirs(images_output_dir, exist_ok=True)\n",
    "\n",
    "all_simulation_results = {}\n",
    "\n",
    "for sheet_name in excel_file.sheet_names:\n",
    "    sheet_df = pd.read_excel(file_path, sheet_name=sheet_name)\n",
    "    print(f\"Processing sheet: {sheet_name}, Number of Columns: {sheet_df.shape[1]}\")\n",
    "    \n",
    "    years = sheet_df.columns[1:]\n",
    "    elements = sheet_df.iloc[:, 0]  \n",
    "    yearly_change = sheet_df[years].pct_change(axis=1)\n",
    "    \n",
    "    simulation_results = pd.DataFrame()\n",
    "\n",
    "    for element in elements:\n",
    "        historical_emissions = sheet_df.loc[sheet_df.iloc[:, 0] == element, years].values.flatten()\n",
    "        \n",
    "        historical_changes = yearly_change.loc[sheet_df.iloc[:, 0] == element].dropna(axis=1).values.flatten()\n",
    "        \n",
    "        mean_change = np.mean(historical_changes)\n",
    "        std_change = np.std(historical_changes)\n",
    "        \n",
    "        all_simulations = np.zeros((num_simulations, len(years) + len(future_years)))\n",
    "        \n",
    "        for sim in range(num_simulations):\n",
    "            simulated_emissions = [historical_emissions[-1]]\n",
    "            \n",
    "            for _ in future_years:\n",
    "                random_change = np.random.normal(mean_change, std_change)\n",
    "                new_value = simulated_emissions[-1] * (1 + random_change)\n",
    "                simulated_emissions.append(new_value)\n",
    "            \n",
    "            total_emissions = np.concatenate([historical_emissions, simulated_emissions[1:]])\n",
    "            all_simulations[sim, :] = total_emissions\n",
    "        \n",
    "        mean_emissions = np.mean(all_simulations, axis=0)\n",
    "        simulation_results[element] = mean_emissions\n",
    "    \n",
    "    all_years = np.concatenate([years, future_years])\n",
    "    simulation_results.index = all_years\n",
    "    all_simulation_results[sheet_name] = simulation_results\n",
    "    \n",
    "    plt.figure(figsize=(10, 6))\n",
    "    for element in elements:\n",
    "        plt.plot(all_years, simulation_results[element], label=element)\n",
    "    \n",
    "    plt.xlabel(\"Year\")\n",
    "    plt.ylabel(\"Emissions\")\n",
    "    plt.legend(loc=\"upper left\")\n",
    "    plt.title(f\"Monte Carlo Simulation of Future Emissions ({sheet_name})\")\n",
    "    \n",
    "    image_file_path = os.path.join(images_output_dir, f\"{sheet_name}_simulation.png\")\n",
    "    plt.savefig(image_file_path)\n",
    "    plt.close() \n",
    "    print(f\"Graph saved for sheet '{sheet_name}' at {image_file_path}\")\n",
    "\n",
    "with pd.ExcelWriter(output_file_path) as writer:\n",
    "    for sheet_name, simulation_result in all_simulation_results.items():\n",
    "        simulation_result.to_excel(writer, sheet_name=sheet_name)\n",
    "\n",
    "print(f\"Monte Carlo simulation results saved to {output_file_path}\")"
   ]
  }
 ],
 "metadata": {
  "kernelspec": {
   "display_name": "Python 3",
   "language": "python",
   "name": "python3"
  },
  "language_info": {
   "codemirror_mode": {
    "name": "ipython",
    "version": 3
   },
   "file_extension": ".py",
   "mimetype": "text/x-python",
   "name": "python",
   "nbconvert_exporter": "python",
   "pygments_lexer": "ipython3",
   "version": "3.12.6"
  }
 },
 "nbformat": 4,
 "nbformat_minor": 2
}
