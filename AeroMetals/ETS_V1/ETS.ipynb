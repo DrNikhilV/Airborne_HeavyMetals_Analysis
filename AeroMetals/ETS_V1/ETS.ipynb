{
 "cells": [
  {
   "cell_type": "code",
   "execution_count": 1,
   "metadata": {},
   "outputs": [],
   "source": [
    "import pandas as pd\n",
    "import numpy as np\n",
    "import matplotlib.pyplot as plt\n",
    "import os\n",
    "from statsmodels.tsa.holtwinters import ExponentialSmoothing"
   ]
  },
  {
   "cell_type": "code",
   "execution_count": 2,
   "metadata": {},
   "outputs": [],
   "source": [
    "file_path = 'AirborneEmissions_Processed.xlsx'\n",
    "excel_file = pd.ExcelFile(file_path)"
   ]
  },
  {
   "cell_type": "code",
   "execution_count": 3,
   "metadata": {},
   "outputs": [],
   "source": [
    "future_years = np.arange(2023, 2031)  \n",
    "output_file_path = 'predictions_ets.xlsx'  \n",
    "images_output_dir = 'ets_images'  \n",
    "os.makedirs(images_output_dir, exist_ok=True)\n",
    "\n",
    "all_forecast_results = {}"
   ]
  },
  {
   "cell_type": "code",
   "execution_count": 4,
   "metadata": {},
   "outputs": [
    {
     "name": "stdout",
     "output_type": "stream",
     "text": [
      "Processing sheet: Arsenic, Number of Columns: 34\n",
      "Graph saved for sheet 'Arsenic' at ets_images\\Arsenic_ets_forecast.png\n",
      "Processing sheet: Cadmium, Number of Columns: 34\n"
     ]
    },
    {
     "name": "stderr",
     "output_type": "stream",
     "text": [
      "c:\\Users\\nikhi\\AppData\\Local\\Programs\\Python\\Python312\\Lib\\site-packages\\statsmodels\\tsa\\holtwinters\\model.py:1412: RuntimeWarning: divide by zero encountered in log\n",
      "  aic = self.nobs * np.log(sse / self.nobs) + k * 2\n",
      "c:\\Users\\nikhi\\AppData\\Local\\Programs\\Python\\Python312\\Lib\\site-packages\\statsmodels\\tsa\\holtwinters\\model.py:1419: RuntimeWarning: divide by zero encountered in log\n",
      "  bic = self.nobs * np.log(sse / self.nobs) + k * np.log(self.nobs)\n",
      "c:\\Users\\nikhi\\AppData\\Local\\Programs\\Python\\Python312\\Lib\\site-packages\\statsmodels\\tsa\\holtwinters\\model.py:1412: RuntimeWarning: divide by zero encountered in log\n",
      "  aic = self.nobs * np.log(sse / self.nobs) + k * 2\n",
      "c:\\Users\\nikhi\\AppData\\Local\\Programs\\Python\\Python312\\Lib\\site-packages\\statsmodels\\tsa\\holtwinters\\model.py:1419: RuntimeWarning: divide by zero encountered in log\n",
      "  bic = self.nobs * np.log(sse / self.nobs) + k * np.log(self.nobs)\n"
     ]
    },
    {
     "name": "stdout",
     "output_type": "stream",
     "text": [
      "Graph saved for sheet 'Cadmium' at ets_images\\Cadmium_ets_forecast.png\n",
      "Processing sheet: Chromium, Number of Columns: 34\n",
      "Graph saved for sheet 'Chromium' at ets_images\\Chromium_ets_forecast.png\n",
      "Processing sheet: Copper, Number of Columns: 34\n",
      "Graph saved for sheet 'Copper' at ets_images\\Copper_ets_forecast.png\n",
      "Processing sheet: Lead, Number of Columns: 34\n",
      "Graph saved for sheet 'Lead' at ets_images\\Lead_ets_forecast.png\n",
      "Processing sheet: Mercury, Number of Columns: 34\n",
      "Graph saved for sheet 'Mercury' at ets_images\\Mercury_ets_forecast.png\n",
      "Processing sheet: Nickel, Number of Columns: 34\n",
      "Graph saved for sheet 'Nickel' at ets_images\\Nickel_ets_forecast.png\n",
      "Processing sheet: Selenium, Number of Columns: 34\n",
      "Graph saved for sheet 'Selenium' at ets_images\\Selenium_ets_forecast.png\n",
      "Processing sheet: Vanadium, Number of Columns: 34\n",
      "Graph saved for sheet 'Vanadium' at ets_images\\Vanadium_ets_forecast.png\n",
      "Processing sheet: Zinc, Number of Columns: 34\n",
      "Graph saved for sheet 'Zinc' at ets_images\\Zinc_ets_forecast.png\n"
     ]
    }
   ],
   "source": [
    "for sheet_name in excel_file.sheet_names:\n",
    "    sheet_df = pd.read_excel(file_path, sheet_name=sheet_name)\n",
    "    print(f\"Processing sheet: {sheet_name}, Number of Columns: {sheet_df.shape[1]}\")\n",
    "    \n",
    "    years = sheet_df.columns[1:] \n",
    "    elements = sheet_df.iloc[:, 0]\n",
    "    forecast_results = pd.DataFrame()\n",
    "\n",
    "    for element in elements:\n",
    "        historical_emissions = sheet_df.loc[sheet_df.iloc[:, 0] == element, years].values.flatten()\n",
    "        \n",
    "        try:\n",
    "            model = ExponentialSmoothing(historical_emissions, trend='add', seasonal=None, initialization_method='estimated')\n",
    "            model_fit = model.fit()\n",
    "            \n",
    "            forecast = model_fit.forecast(steps=len(future_years))\n",
    "            \n",
    "            total_emissions = np.concatenate([historical_emissions, forecast])\n",
    "            forecast_results[element] = total_emissions\n",
    "        \n",
    "        except Exception as e:\n",
    "            print(f\"ETS model failed for element '{element}' in sheet '{sheet_name}': {e}\")\n",
    "    \n",
    "    all_years = np.concatenate([years, future_years])\n",
    "    forecast_results.index = all_years\n",
    "    all_forecast_results[sheet_name] = forecast_results\n",
    "    \n",
    "    plt.figure(figsize=(10, 6))\n",
    "    for element in elements:\n",
    "        plt.plot(all_years, forecast_results[element], label=element)\n",
    "    \n",
    "    plt.xlabel(\"Year\")\n",
    "    plt.ylabel(\"Emissions\")\n",
    "    plt.legend(loc=\"upper left\")\n",
    "    plt.title(f\"ETS Forecast of Future Emissions ({sheet_name})\")\n",
    "    \n",
    "    image_file_path = os.path.join(images_output_dir, f\"{sheet_name}_ets_forecast.png\")\n",
    "    plt.savefig(image_file_path)\n",
    "    plt.close()  \n",
    "    print(f\"Graph saved for sheet '{sheet_name}' at {image_file_path}\")"
   ]
  },
  {
   "cell_type": "code",
   "execution_count": 5,
   "metadata": {},
   "outputs": [
    {
     "name": "stdout",
     "output_type": "stream",
     "text": [
      "ETS forecast results saved to predictions_ets.xlsx\n"
     ]
    }
   ],
   "source": [
    "with pd.ExcelWriter(output_file_path) as writer:\n",
    "    for sheet_name, forecast_result in all_forecast_results.items():\n",
    "        forecast_result.to_excel(writer, sheet_name=sheet_name)\n",
    "\n",
    "print(f\"ETS forecast results saved to {output_file_path}\")"
   ]
  }
 ],
 "metadata": {
  "kernelspec": {
   "display_name": "Python 3",
   "language": "python",
   "name": "python3"
  },
  "language_info": {
   "codemirror_mode": {
    "name": "ipython",
    "version": 3
   },
   "file_extension": ".py",
   "mimetype": "text/x-python",
   "name": "python",
   "nbconvert_exporter": "python",
   "pygments_lexer": "ipython3",
   "version": "3.12.6"
  }
 },
 "nbformat": 4,
 "nbformat_minor": 2
}
